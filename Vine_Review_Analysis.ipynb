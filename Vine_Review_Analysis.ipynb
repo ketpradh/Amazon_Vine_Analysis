{
  "nbformat": 4,
  "nbformat_minor": 0,
  "metadata": {
    "colab": {
      "name": "Vine_Review_Analysis.ipynb",
      "provenance": [],
      "collapsed_sections": []
    },
    "kernelspec": {
      "name": "python3",
      "display_name": "Python 3"
    }
  },
  "cells": [
    {
      "cell_type": "code",
      "metadata": {
        "colab": {
          "base_uri": "https://localhost:8080/"
        },
        "id": "IsyQJuM_VxKN",
        "outputId": "c6063a0f-bf9f-4735-a26f-b6a33bfc94e9"
      },
      "source": [
        "import os\r\n",
        "# Find the latest version of spark 2.0  from http://www-us.apache.org/dist/spark/ and enter as the spark version\r\n",
        "# For example:\r\n",
        "# spark_version = 'spark-3.0.0'\r\n",
        "spark_version = 'spark-3.0.2'\r\n",
        "os.environ['SPARK_VERSION']=spark_version\r\n",
        "\r\n",
        "# Install Spark and Java\r\n",
        "!apt-get update\r\n",
        "!apt-get install openjdk-11-jdk-headless -qq > /dev/null\r\n",
        "!wget -q http://www-us.apache.org/dist/spark/$SPARK_VERSION/$SPARK_VERSION-bin-hadoop2.7.tgz\r\n",
        "!tar xf $SPARK_VERSION-bin-hadoop2.7.tgz\r\n",
        "!pip install -q findspark\r\n",
        "\r\n",
        "# Set Environment Variables\r\n",
        "import os\r\n",
        "os.environ[\"JAVA_HOME\"] = \"/usr/lib/jvm/java-11-openjdk-amd64\"\r\n",
        "os.environ[\"SPARK_HOME\"] = f\"/content/{spark_version}-bin-hadoop2.7\"\r\n",
        "\r\n",
        "# Start a SparkSession\r\n",
        "import findspark\r\n",
        "findspark.init()"
      ],
      "execution_count": null,
      "outputs": [
        {
          "output_type": "stream",
          "text": [
            "\r0% [Working]\r            \rHit:1 http://security.ubuntu.com/ubuntu bionic-security InRelease\n",
            "\r0% [Connecting to archive.ubuntu.com (91.189.88.142)] [Connected to cloud.r-pro\r0% [1 InRelease gpgv 88.7 kB] [Connecting to archive.ubuntu.com (91.189.88.142)\r                                                                               \rIgn:2 https://developer.download.nvidia.com/compute/cuda/repos/ubuntu1804/x86_64  InRelease\n",
            "Hit:3 https://cloud.r-project.org/bin/linux/ubuntu bionic-cran40/ InRelease\n",
            "Ign:4 https://developer.download.nvidia.com/compute/machine-learning/repos/ubuntu1804/x86_64  InRelease\n",
            "Hit:5 http://archive.ubuntu.com/ubuntu bionic InRelease\n",
            "Hit:6 http://ppa.launchpad.net/c2d4u.team/c2d4u4.0+/ubuntu bionic InRelease\n",
            "Hit:7 https://developer.download.nvidia.com/compute/cuda/repos/ubuntu1804/x86_64  Release\n",
            "Hit:8 https://developer.download.nvidia.com/compute/machine-learning/repos/ubuntu1804/x86_64  Release\n",
            "Hit:9 http://archive.ubuntu.com/ubuntu bionic-updates InRelease\n",
            "Hit:10 http://archive.ubuntu.com/ubuntu bionic-backports InRelease\n",
            "Hit:11 http://ppa.launchpad.net/cran/libgit2/ubuntu bionic InRelease\n",
            "Hit:12 http://ppa.launchpad.net/deadsnakes/ppa/ubuntu bionic InRelease\n",
            "Hit:13 http://ppa.launchpad.net/graphics-drivers/ppa/ubuntu bionic InRelease\n",
            "Reading package lists... Done\n"
          ],
          "name": "stdout"
        }
      ]
    },
    {
      "cell_type": "code",
      "metadata": {
        "id": "pfKpqYllXItN"
      },
      "source": [
        "from pyspark.sql import SparkSession\r\n",
        "spark = SparkSession.builder.appName(\"BigData-Challenge\").getOrCreate()"
      ],
      "execution_count": null,
      "outputs": []
    },
    {
      "cell_type": "code",
      "metadata": {
        "colab": {
          "base_uri": "https://localhost:8080/"
        },
        "id": "xveRUsEkWpmW",
        "outputId": "a7fa000e-8af7-4bc8-e053-e14a60af56c7"
      },
      "source": [
        "from pyspark import SparkFiles\r\n",
        "url = \"https://s3.amazonaws.com/amazon-reviews-pds/tsv/amazon_reviews_us_Software_v1_00.tsv.gz\"\r\n",
        "spark.sparkContext.addFile(url)\r\n",
        "df = spark.read.option(\"encoding\", \"UTF-8\").csv(SparkFiles.get(\"\"), sep=\"\\t\", header=True, inferSchema=True)\r\n",
        "df.show()"
      ],
      "execution_count": null,
      "outputs": [
        {
          "output_type": "stream",
          "text": [
            "+-----------+-----------+--------------+----------+--------------+--------------------+----------------+-----------+-------------+-----------+----+-----------------+--------------------+--------------------+-----------+\n",
            "|marketplace|customer_id|     review_id|product_id|product_parent|       product_title|product_category|star_rating|helpful_votes|total_votes|vine|verified_purchase|     review_headline|         review_body|review_date|\n",
            "+-----------+-----------+--------------+----------+--------------+--------------------+----------------+-----------+-------------+-----------+----+-----------------+--------------------+--------------------+-----------+\n",
            "|         US|   42605767|R3EFW2STIYIY0I|B00MUTIDKI|     248732228|McAfee 2015 Inter...|        Software|          1|            2|          2|   N|                Y|I was very disapp...|I was very disapp...| 2015-08-31|\n",
            "|         US|   51771800|R12NR0R5A9F7FT|B00EPACNUG|     531462352|Hallmark Card Stu...|        Software|          5|            0|          0|   N|                Y|          Five Stars|I had a little st...| 2015-08-31|\n",
            "|         US|   16053526|R1LSH74R9XAP59|B00164AZA4|     473982505| Search and Rescue 4|        Software|          2|            0|          1|   N|                Y|    Have windows 10?|Tried to download...| 2015-08-31|\n",
            "|         US|   15319481|R1QXUNTF76K7L6|B00E6LIEFM|     189774198|      Quickbooks Pro|        Software|          2|            0|          0|   N|                Y|Disc was corrupt,...|Disc was corrupt,...| 2015-08-31|\n",
            "|         US|    1441820|R2F7DR75PS8NKT|B00VWEBG06|     852470365|Windows 7 Profess...|        Software|          5|            0|          0|   N|                Y|          Five Stars|Just what I neede...| 2015-08-31|\n",
            "|         US|   37107850|R2C1DJSCC8UFS6|B00EP7AP7C|     279360628|Family Tree Maker...|        Software|          3|            0|          0|   N|                Y|         Three Stars|Didn't like havin...| 2015-08-31|\n",
            "|         US|     302120|R1AXGS1W4YFXMX|B00OW2PET4|     729971168|World of Farming:...|        Software|          1|            0|          2|   N|                Y|            One Star|it does not work ...| 2015-08-31|\n",
            "|         US|   20193077|R1XU1B93402SYJ|B00N4OLCRO|     776572654|Photoshop Element...|        Software|          1|            1|          1|   N|                Y|Can't load to my ...|I have tried for ...| 2015-08-31|\n",
            "|         US|   13106017|R2U432NB3OPVR0|B005CELN8W|     222071424|Phantom EFX WMS S...|        Software|          5|            0|          0|   N|                Y|          Five Stars|       love the game| 2015-08-31|\n",
            "|         US|   32587108|R3R6FIMIOQ5SP9|B005CELL1G|     168801430|PaperPort Profess...|        Software|          5|            0|          0|   N|                Y|Meets our small b...|Great software. A...| 2015-08-31|\n",
            "|         US|   32020017|R12TX6V09C9QNQ|B00H09BOXQ|     455502995|Windows 7 Profess...|        Software|          5|            0|          0|   N|                Y|          Five Stars|             Awesome| 2015-08-31|\n",
            "|         US|   13376158|R33UCII6YKUMKV|B00MCLGAAO|     652069521| QuickBooks Pro 2015|        Software|          3|            2|          2|   N|                Y|Nothing New in Th...|To start this rev...| 2015-08-31|\n",
            "|         US|   47098110| RZKDAB9TGO053|B00P6U8C5Y|     871602905|Block Financial H...|        Software|          1|            0|          0|   N|                Y|Missing key infor...|Some key provisio...| 2015-08-31|\n",
            "|         US|   24083274|R2EMN2EEDN73ZA|B00MA5TPN6|     299038085|Parallels Desktop...|        Software|          4|            0|          0|   N|                Y|Probably the best...|Probably the best...| 2015-08-31|\n",
            "|         US|   41137196| RU9LHN1NJDVOI|B000EQ868I|     534229510|Cosmi Print Perfe...|        Software|          5|            0|          0|   N|                Y|          Five Stars|I was pleased wit...| 2015-08-31|\n",
            "|         US|   18003829|R19910SO17BQUE|B00MYXTCMI|      42668324|TurboTax Business...|        Software|          5|            0|          0|   N|                Y|... what it is su...|This program does...| 2015-08-31|\n",
            "|         US|   14460749|R32N10BW8MH847|B008PIQXP0|     116724371|I.R.I.S. Readiris...|        Software|          4|            2|          4|   N|                Y|          Four Stars|Again it should h...| 2015-08-31|\n",
            "|         US|   12641855| R2DNM85DH7FGK|B00KAFOXXU|     471261945|Finale PrintMusic...|        Software|          5|            0|          2|   N|                Y|          Five Stars|               great| 2015-08-31|\n",
            "|         US|   13775565|R2G9RFFW051RWY|B00OKSOLE4|     694520847|Microsoft Office ...|        Software|          5|            0|          0|   N|                Y|          Five Stars|        Easy to use.| 2015-08-31|\n",
            "|         US|   31044774|R26CC1STPSUHBS|B01019T6O0|     510976915|Microsoft Windows...|        Software|          1|           27|         39|   N|                N|Do NOT take the \"...|Do NOT take the &...| 2015-08-31|\n",
            "+-----------+-----------+--------------+----------+--------------+--------------------+----------------+-----------+-------------+-----------+----+-----------------+--------------------+--------------------+-----------+\n",
            "only showing top 20 rows\n",
            "\n"
          ],
          "name": "stdout"
        }
      ]
    },
    {
      "cell_type": "code",
      "metadata": {
        "colab": {
          "base_uri": "https://localhost:8080/"
        },
        "id": "P9RXMAYGYTG8",
        "outputId": "90dc8f49-c16a-4448-ebb0-77c1d98a35a8"
      },
      "source": [
        "# Create the vine_table. DataFrame\r\n",
        "vine_df = df.select(['review_id', 'star_rating', 'helpful_votes', 'total_votes', 'vine', 'verified_purchase'])\r\n",
        "vine_df.show()\r\n",
        "vine_df.count()"
      ],
      "execution_count": null,
      "outputs": [
        {
          "output_type": "stream",
          "text": [
            "+--------------+-----------+-------------+-----------+----+-----------------+\n",
            "|     review_id|star_rating|helpful_votes|total_votes|vine|verified_purchase|\n",
            "+--------------+-----------+-------------+-----------+----+-----------------+\n",
            "|R3EFW2STIYIY0I|          1|            2|          2|   N|                Y|\n",
            "|R12NR0R5A9F7FT|          5|            0|          0|   N|                Y|\n",
            "|R1LSH74R9XAP59|          2|            0|          1|   N|                Y|\n",
            "|R1QXUNTF76K7L6|          2|            0|          0|   N|                Y|\n",
            "|R2F7DR75PS8NKT|          5|            0|          0|   N|                Y|\n",
            "|R2C1DJSCC8UFS6|          3|            0|          0|   N|                Y|\n",
            "|R1AXGS1W4YFXMX|          1|            0|          2|   N|                Y|\n",
            "|R1XU1B93402SYJ|          1|            1|          1|   N|                Y|\n",
            "|R2U432NB3OPVR0|          5|            0|          0|   N|                Y|\n",
            "|R3R6FIMIOQ5SP9|          5|            0|          0|   N|                Y|\n",
            "|R12TX6V09C9QNQ|          5|            0|          0|   N|                Y|\n",
            "|R33UCII6YKUMKV|          3|            2|          2|   N|                Y|\n",
            "| RZKDAB9TGO053|          1|            0|          0|   N|                Y|\n",
            "|R2EMN2EEDN73ZA|          4|            0|          0|   N|                Y|\n",
            "| RU9LHN1NJDVOI|          5|            0|          0|   N|                Y|\n",
            "|R19910SO17BQUE|          5|            0|          0|   N|                Y|\n",
            "|R32N10BW8MH847|          4|            2|          4|   N|                Y|\n",
            "| R2DNM85DH7FGK|          5|            0|          2|   N|                Y|\n",
            "|R2G9RFFW051RWY|          5|            0|          0|   N|                Y|\n",
            "|R26CC1STPSUHBS|          1|           27|         39|   N|                N|\n",
            "+--------------+-----------+-------------+-----------+----+-----------------+\n",
            "only showing top 20 rows\n",
            "\n"
          ],
          "name": "stdout"
        },
        {
          "output_type": "execute_result",
          "data": {
            "text/plain": [
              "341931"
            ]
          },
          "metadata": {
            "tags": []
          },
          "execution_count": 4
        }
      ]
    },
    {
      "cell_type": "code",
      "metadata": {
        "colab": {
          "base_uri": "https://localhost:8080/"
        },
        "id": "76DZJ_FsYlX1",
        "outputId": "f9850bb7-e3a9-4e06-b4b2-1c3115463dd7"
      },
      "source": [
        "vine_filtered_df = vine_df.filter(vine_df.total_votes >= 20)\r\n",
        "vine_filtered_df.show()\r\n",
        "vine_filtered_df.count()"
      ],
      "execution_count": null,
      "outputs": [
        {
          "output_type": "stream",
          "text": [
            "+--------------+-----------+-------------+-----------+----+-----------------+\n",
            "|     review_id|star_rating|helpful_votes|total_votes|vine|verified_purchase|\n",
            "+--------------+-----------+-------------+-----------+----+-----------------+\n",
            "|R26CC1STPSUHBS|          1|           27|         39|   N|                N|\n",
            "| R7K83D59T9KWS|          1|           16|         26|   N|                N|\n",
            "|R2ATG5BPVILHUM|          1|           16|         25|   N|                N|\n",
            "|R1Q71TAM5ZOYTK|          3|           57|         61|   N|                N|\n",
            "| RR8HYI7C2XKMU|          5|           25|         25|   N|                Y|\n",
            "|R1VDCSJE4CJJIR|          1|           88|         97|   N|                Y|\n",
            "|R2PZMSDKOO1Q6W|          1|           29|         43|   N|                Y|\n",
            "|R39OOYN0DOLINK|          3|           91|        111|   N|                N|\n",
            "|R1PLNHJZ8BKIBG|          1|           44|         46|   N|                Y|\n",
            "|R14G4YQXL17REH|          1|            4|         28|   N|                N|\n",
            "|R3UTVKJF44E0R6|          1|           46|         69|   N|                N|\n",
            "| R2J71KOOLF9UB|          1|            5|         20|   N|                Y|\n",
            "|R2CAD5FOVMTR2L|          2|           17|         28|   N|                N|\n",
            "|R2SW9V1EDQH6O7|          5|           27|         29|   N|                N|\n",
            "|R3SI1TZD809Y0T|          5|           24|         24|   N|                Y|\n",
            "|R23WY4HVMD8SY3|          1|            7|         24|   N|                N|\n",
            "|R2V0VLBRWCMX3I|          1|          563|        601|   N|                N|\n",
            "| R34R79B2P5DJD|          1|           87|        112|   N|                N|\n",
            "| R4D6AQ86X5RQG|          1|           22|         26|   N|                N|\n",
            "|R1BSZ4PB99TN8D|          1|           61|         90|   N|                N|\n",
            "+--------------+-----------+-------------+-----------+----+-----------------+\n",
            "only showing top 20 rows\n",
            "\n"
          ],
          "name": "stdout"
        },
        {
          "output_type": "execute_result",
          "data": {
            "text/plain": [
              "20216"
            ]
          },
          "metadata": {
            "tags": []
          },
          "execution_count": 5
        }
      ]
    },
    {
      "cell_type": "code",
      "metadata": {
        "colab": {
          "base_uri": "https://localhost:8080/"
        },
        "id": "nevUcPLSZsSw",
        "outputId": "09c675c0-6972-48c0-ac6b-83d9b8031434"
      },
      "source": [
        "vine_filtered2_df = vine_filtered_df.filter((vine_filtered_df.helpful_votes/vine_filtered_df.total_votes) >= 0.5)\r\n",
        "vine_filtered2_df.show()\r\n",
        "vine_filtered2_df.count()"
      ],
      "execution_count": null,
      "outputs": [
        {
          "output_type": "stream",
          "text": [
            "+--------------+-----------+-------------+-----------+----+-----------------+\n",
            "|     review_id|star_rating|helpful_votes|total_votes|vine|verified_purchase|\n",
            "+--------------+-----------+-------------+-----------+----+-----------------+\n",
            "|R26CC1STPSUHBS|          1|           27|         39|   N|                N|\n",
            "| R7K83D59T9KWS|          1|           16|         26|   N|                N|\n",
            "|R2ATG5BPVILHUM|          1|           16|         25|   N|                N|\n",
            "|R1Q71TAM5ZOYTK|          3|           57|         61|   N|                N|\n",
            "| RR8HYI7C2XKMU|          5|           25|         25|   N|                Y|\n",
            "|R1VDCSJE4CJJIR|          1|           88|         97|   N|                Y|\n",
            "|R2PZMSDKOO1Q6W|          1|           29|         43|   N|                Y|\n",
            "|R39OOYN0DOLINK|          3|           91|        111|   N|                N|\n",
            "|R1PLNHJZ8BKIBG|          1|           44|         46|   N|                Y|\n",
            "|R3UTVKJF44E0R6|          1|           46|         69|   N|                N|\n",
            "|R2CAD5FOVMTR2L|          2|           17|         28|   N|                N|\n",
            "|R2SW9V1EDQH6O7|          5|           27|         29|   N|                N|\n",
            "|R3SI1TZD809Y0T|          5|           24|         24|   N|                Y|\n",
            "|R2V0VLBRWCMX3I|          1|          563|        601|   N|                N|\n",
            "| R34R79B2P5DJD|          1|           87|        112|   N|                N|\n",
            "| R4D6AQ86X5RQG|          1|           22|         26|   N|                N|\n",
            "|R1BSZ4PB99TN8D|          1|           61|         90|   N|                N|\n",
            "|R1QMF01BDRT2LJ|          1|           10|         20|   N|                N|\n",
            "|R2NBUUW79OYBGT|          1|           57|         58|   N|                Y|\n",
            "|R24OEFISZWTBDJ|          4|           17|         25|   N|                N|\n",
            "+--------------+-----------+-------------+-----------+----+-----------------+\n",
            "only showing top 20 rows\n",
            "\n"
          ],
          "name": "stdout"
        },
        {
          "output_type": "execute_result",
          "data": {
            "text/plain": [
              "17762"
            ]
          },
          "metadata": {
            "tags": []
          },
          "execution_count": 6
        }
      ]
    },
    {
      "cell_type": "code",
      "metadata": {
        "colab": {
          "base_uri": "https://localhost:8080/"
        },
        "id": "coRAqNP-bSGY",
        "outputId": "d59bd3f1-5dd1-400f-ea6d-9bc1c11f229a"
      },
      "source": [
        "#Get the Vine Paid Reviews\r\n",
        "vine_paid_reviews_df = vine_filtered2_df.filter(vine_filtered2_df.vine == 'Y')\r\n",
        "vine_paid_reviews_df.show(5)\r\n",
        "print(\"Total number of Vine reviews:\"+ str(vine_paid_reviews_df.count()))"
      ],
      "execution_count": null,
      "outputs": [
        {
          "output_type": "stream",
          "text": [
            "+--------------+-----------+-------------+-----------+----+-----------------+\n",
            "|     review_id|star_rating|helpful_votes|total_votes|vine|verified_purchase|\n",
            "+--------------+-----------+-------------+-----------+----+-----------------+\n",
            "|R28EIR3Z6RRUNN|          2|           50|         60|   Y|                N|\n",
            "|R2YO2RESXZEWOF|          4|           24|         25|   Y|                N|\n",
            "| R8GEE2EW3D6S9|          3|           49|         54|   Y|                N|\n",
            "|R33W9V1MX6WKPS|          4|           47|         53|   Y|                N|\n",
            "|R24E3W2ZRIFG8C|          5|           91|         93|   Y|                N|\n",
            "+--------------+-----------+-------------+-----------+----+-----------------+\n",
            "only showing top 5 rows\n",
            "\n",
            "Total number of Vine reviews:248\n"
          ],
          "name": "stdout"
        }
      ]
    },
    {
      "cell_type": "code",
      "metadata": {
        "colab": {
          "base_uri": "https://localhost:8080/"
        },
        "id": "dnfUt-vDcDSp",
        "outputId": "d4df17e6-69b6-49c2-e17c-d85170bcc4f1"
      },
      "source": [
        "#Get the Vine Unpaid Reviews\r\n",
        "vine_unpaid_reviews_df = vine_filtered2_df.filter(vine_filtered2_df.vine == 'N')\r\n",
        "vine_unpaid_reviews_df.show(5)\r\n",
        "print(\"Total number of non-Vine reviews:\"+ str(vine_unpaid_reviews_df.count()))"
      ],
      "execution_count": null,
      "outputs": [
        {
          "output_type": "stream",
          "text": [
            "+--------------+-----------+-------------+-----------+----+-----------------+\n",
            "|     review_id|star_rating|helpful_votes|total_votes|vine|verified_purchase|\n",
            "+--------------+-----------+-------------+-----------+----+-----------------+\n",
            "|R26CC1STPSUHBS|          1|           27|         39|   N|                N|\n",
            "| R7K83D59T9KWS|          1|           16|         26|   N|                N|\n",
            "|R2ATG5BPVILHUM|          1|           16|         25|   N|                N|\n",
            "|R1Q71TAM5ZOYTK|          3|           57|         61|   N|                N|\n",
            "| RR8HYI7C2XKMU|          5|           25|         25|   N|                Y|\n",
            "+--------------+-----------+-------------+-----------+----+-----------------+\n",
            "only showing top 5 rows\n",
            "\n",
            "Total number of non-Vine reviews:17514\n"
          ],
          "name": "stdout"
        }
      ]
    },
    {
      "cell_type": "code",
      "metadata": {
        "colab": {
          "base_uri": "https://localhost:8080/"
        },
        "id": "-ZaZyPVRdC-9",
        "outputId": "eb16e13c-c3fe-410a-d4f0-c47770e01ee5"
      },
      "source": [
        "print(\"Total Number of Reviews: \"+ str(vine_filtered2_df.count()))\r\n",
        "print(\"Total Number of 5-Star Reviews: \" + str(vine_filtered2_df.filter(vine_filtered2_df.star_rating == 5).count()))\r\n",
        "print(\"Total Number of 5-Star Paid Reviews: \" + str(vine_paid_reviews_df.filter(vine_paid_reviews_df.star_rating == 5).count()))\r\n",
        "print(\"Total Number of 5-Star Unpaid Reviews: \" + str(vine_unpaid_reviews_df.filter(vine_unpaid_reviews_df.star_rating == 5).count()))"
      ],
      "execution_count": null,
      "outputs": [
        {
          "output_type": "stream",
          "text": [
            "Total Number of Reviews: 17762\n",
            "Total Number of 5-Star Reviews: 5256\n",
            "Total Number of 5-Star Paid Reviews: 102\n",
            "Total Number of 5-Star Unpaid Reviews: 5154\n"
          ],
          "name": "stdout"
        }
      ]
    }
  ]
}